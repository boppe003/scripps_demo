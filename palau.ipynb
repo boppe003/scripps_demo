{
 "cells": [
  {
   "cell_type": "markdown",
   "metadata": {},
   "source": [
    "### code is hosted on github, data is available from nasa\n",
    "* github at \n",
    "* data at [search.earthdata.nasa.gov/projects?projectId=5396249562](https://search.earthdata.nasa.gov/projects?projectId=5396249562)"
   ]
  },
  {
   "cell_type": "code",
   "execution_count": 1,
   "metadata": {},
   "outputs": [],
   "source": [
    "import matplotlib.pyplot as plt\n",
    "import matplotlib.animation as animation\n",
    "import xarray as xr\n",
    "import numpy as np\n",
    "import scipy.stats as stats"
   ]
  },
  {
   "cell_type": "markdown",
   "metadata": {},
   "source": [
    "### downloading data\n",
    "\n",
    "The data products were downloaded from NASA's [earthdata search](https://search.earthdata.nasa.gov/search)\n",
    "* a project file linked [here](https://search.earthdata.nasa.gov/projects?projectId=5396249562) allows one to redownload the same products\n",
    "\n",
    "|product title|variables|bounding|\n",
    "|-------|---------|--------|\n",
    "|OCI Level-2 Data BGC|chlor_a, poc, carbon_phyto|  spatial: 8.5° N, 135.5° E x 4.0° N, 130.5° E, temporal: 2024-03-05 - 2024-12-31\n",
    "|NOAA CYGNSS Level 2 Science Wind Speed Product (v1.2)|wind_speed, wind_speed_uncertainty|  spatial: 8.5° N, 135.5° E x 4.0° N, 130.5° E, temporal: 2024-03-05 - 2024-12-31\n",
    "\n",
    "![image_of_project_page](notebook_images/earthdata_project_photo.png)"
   ]
  },
  {
   "cell_type": "markdown",
   "metadata": {},
   "source": [
    "### the datafiles are then regridded\n",
    "* There's a lot of documentation on regridding. I feel its out of the scope of the demo.\n",
    "* see/run `preprocess_cygnss_wind.py` and `preprocess_ogc_bgc.py` to learn a bit more"
   ]
  },
  {
   "cell_type": "code",
   "execution_count": null,
   "metadata": {},
   "outputs": [],
   "source": [
    "wind_ds = xr.open_mfdataset('data/CYGNSS_NOAA_L2_SWSP_25KM_V1.2_1.2-20250124_000751/regridded/*.nc', concat_dim='time', combine='nested')\n",
    "wind_ds = wind_ds.sel(time=slice(\"2024-03-05\", \"2024-12-31\"))\n",
    "ocean_ds = xr.open_mfdataset(\"data/PACE_OCI_L2_BGC_NRT_2.0-20250121_161459/regridded/*.nc\")\n",
    "ocean_ds = ocean_ds.sel(time=slice('2024-03-05', '2024-12-31'))\n",
    "wind_ds.data_vars, ocean_ds.data_vars"
   ]
  },
  {
   "cell_type": "markdown",
   "metadata": {},
   "source": [
    "### variable Climatology for 2024\n",
    "* climatology means we find the average value of a cell over an entire time period."
   ]
  },
  {
   "cell_type": "code",
   "execution_count": null,
   "metadata": {},
   "outputs": [],
   "source": [
    "\n",
    "wind_ds.resample(time='YE').mean()['wind_speed'].plot()\n",
    "plt.show()"
   ]
  },
  {
   "cell_type": "code",
   "execution_count": 24,
   "metadata": {},
   "outputs": [],
   "source": [
    "def plot_everything(ds: xr.Dataset, plot_vars: list, title_desc: str):\n",
    "\n",
    "    fig, ax = plt.subplots(figsize= (14, 4), ncols=len(plot_vars))\n",
    "\n",
    "    for n, var in enumerate(plot_vars):\n",
    "        ds[var].plot(ax=ax[n])\n",
    "        ax[n].set_title(var + \"\\n\" + title_desc)\n",
    "    fig.tight_layout()"
   ]
  },
  {
   "cell_type": "code",
   "execution_count": null,
   "metadata": {},
   "outputs": [],
   "source": [
    "ocean_climatology = ocean_ds.resample(time='YE').mean()\n",
    "plot_vars = ['chlor_a', 'carbon_phyto', 'poc']\n",
    "\n",
    "\n",
    "plot_everything(ocean_climatology, plot_vars, \" 2024 climatology\")\n",
    "del ocean_climatology"
   ]
  },
  {
   "cell_type": "markdown",
   "metadata": {},
   "source": [
    "### standard devation for each value\n",
    "* standard deviation graphed for a given cell over an entire time period"
   ]
  },
  {
   "cell_type": "code",
   "execution_count": null,
   "metadata": {},
   "outputs": [],
   "source": [
    "std_dev = ocean_ds.std(dim=\"time\")\n",
    "\n",
    "plot_everything(std_dev, plot_vars, \"standard deviation over time axis\")\n",
    "del std_dev"
   ]
  },
  {
   "cell_type": "markdown",
   "metadata": {},
   "source": [
    "### max for each value\n",
    "* max over entire time period graphed for a given cell"
   ]
  },
  {
   "cell_type": "code",
   "execution_count": null,
   "metadata": {},
   "outputs": [],
   "source": [
    "max_values = ocean_ds.resample(time='YE').max()\n",
    "\n",
    "plot_everything(max_values, plot_vars, \"peak values of 2024\")\n",
    "del max_values"
   ]
  },
  {
   "cell_type": "markdown",
   "metadata": {},
   "source": [
    "### animations\n",
    "* this is done with a normal python script so there is less overhead. this is the code.\n",
    "* hastily done without for loops because its not the center of the project"
   ]
  },
  {
   "cell_type": "code",
   "execution_count": null,
   "metadata": {},
   "outputs": [],
   "source": [
    "variable_vbar_bounds = {\n",
    "    'chlor_a':(0, 5),\n",
    "    'carbon_phyto':(0, 500),\n",
    "    'poc':(0, 350)\n",
    "}\n",
    "fig, ax = plt.subplots(figsize=(18, 5), ncols=3)\n",
    "\n",
    "#generates colorbars\n",
    "for n, variable in enumerate(variable_vbar_bounds):\n",
    "    vmin, vmax = variable_vbar_bounds[variable]\n",
    "\n",
    "    ocean_ds[variable].isel(time=0).plot(vmin= vmin, vmax= vmax, ax=ax[n])\n",
    "\n",
    "def tick_frame(frame):\n",
    "    for n, variable in enumerate(variable_vbar_bounds):\n",
    "        vmin, vmax = variable_vbar_bounds[variable]\n",
    "\n",
    "        ax[n].clear()\n",
    "        ocean_ds[variable].sel(time= ocean_ds.time[frame]).plot(vmin= vmin, vmax= vmax, ax=ax[n], add_colorbar=False)\n",
    "\n",
    "\n",
    "ani = animation.FuncAnimation(fig, tick_frame, frames=len(ocean_ds.time), interval=100)\n",
    "\n",
    "# this bit requires you have ffmpeg installed. it's available through most package managers.\n",
    "# direct download see, https://ffmpeg.org/ \n",
    "ani.save(filename=\"animation_demo.mp4\", writer=\"ffmpeg\") \n"
   ]
  },
  {
   "cell_type": "markdown",
   "metadata": {},
   "source": [
    "## statistics"
   ]
  },
  {
   "cell_type": "markdown",
   "metadata": {},
   "source": [
    "### rebinning the datasets temporally and spatially"
   ]
  },
  {
   "cell_type": "code",
   "execution_count": 9,
   "metadata": {},
   "outputs": [],
   "source": [
    "lat_factor, lon_factor = ocean_ds.latitude.size/wind_ds.latitude.size, ocean_ds.longitude.size/wind_ds.longitude.size \n",
    "lat_factor, lon_factor = round(lat_factor), round(lon_factor)\n",
    "\n",
    "# temporal: by day\n",
    "ocean_ds = ocean_ds.resample(time='D').mean()\n",
    "\n",
    "binned_wind_ds = wind_ds.resample(time='D').mean()\n",
    "\n",
    "# # spatial: same size as wind ds.\n",
    "binned_ocean_ds = ocean_ds.coarsen(latitude=lat_factor, longitude=lon_factor, boundary=\"trim\").mean()\n",
    "binned_ocean_ds = binned_ocean_ds.reindex_like(binned_wind_ds, method='nearest')\n",
    "\n"
   ]
  },
  {
   "cell_type": "code",
   "execution_count": null,
   "metadata": {},
   "outputs": [],
   "source": [
    "\n",
    "_, ax = plt.subplots(figsize=(14, 4), ncols=3)\n",
    "n = 13\n",
    "binned_wind_ds.wind_speed[n].plot(ax=ax[0])\n",
    "binned_ocean_ds.carbon_phyto[n].plot(ax=ax[1])\n",
    "ocean_ds.carbon_phyto[n].plot(ax=ax[2])\n",
    "plt.tight_layout()"
   ]
  },
  {
   "cell_type": "markdown",
   "metadata": {},
   "source": [
    "### calculating linear regression of point over time, per longitude, latitude bin"
   ]
  },
  {
   "cell_type": "code",
   "execution_count": 11,
   "metadata": {},
   "outputs": [],
   "source": [
    "def linregress_func(wind_speed, carbon_phyto):\n",
    "    mask = ~np.isnan(wind_speed) & ~np.isnan(carbon_phyto)\n",
    "    if mask.sum() < 100:\n",
    "        return np.nan, np.nan, np.nan, np.nan, np.nan\n",
    "    \n",
    "    slope, intercept, r_value, p_value, std_err = stats.linregress(wind_speed[mask], carbon_phyto[mask])\n",
    "    return slope, intercept, r_value, p_value, std_err\n"
   ]
  },
  {
   "cell_type": "code",
   "execution_count": 12,
   "metadata": {},
   "outputs": [],
   "source": [
    "stat_vars = ['slope', 'intercept', 'r_value', 'p_value', 'std_err']\n",
    "stats_ds = xr.Dataset(\n",
    "    data_vars = {\n",
    "        \"carbon_phyto\": binned_ocean_ds['carbon_phyto'],\n",
    "        \"wind_speed\": binned_wind_ds['wind_speed']\n",
    "    }\n",
    ")\n",
    "\n",
    "template_array = np.full((stats_ds.latitude.size, stats_ds.longitude.size), (np.nan), np.float32)\n",
    "\n",
    "for var in stat_vars:\n",
    "    stats_ds[var] = ([\"latitude\", \"longitude\"], template_array.copy())\n",
    "\n",
    "stats_ds = stats_ds.chunk({'latitude': 10, 'longitude': 10, 'time': -1})"
   ]
  },
  {
   "cell_type": "code",
   "execution_count": 13,
   "metadata": {},
   "outputs": [],
   "source": [
    "\n",
    "results = xr.apply_ufunc(\n",
    "    linregress_func,\n",
    "    stats_ds.wind_speed,\n",
    "    stats_ds.carbon_phyto,\n",
    "    input_core_dims=[['time'], ['time']],\n",
    "    output_core_dims=[[], [], [], [], []],\n",
    "    vectorize=True,\n",
    "    dask=\"parallelized\",\n",
    "    output_dtypes=[float, float, float, float, float]\n",
    ")\n",
    "\n",
    "stats_ds['slope'], stats_ds['intercept'], stats_ds['r_value'], stats_ds['p_value'], stats_ds['std_err'] = results\n",
    "stats_ds = stats_ds.compute()\n",
    "del results"
   ]
  },
  {
   "cell_type": "code",
   "execution_count": null,
   "metadata": {},
   "outputs": [],
   "source": [
    "variable_vbar_bounds = {\n",
    "    'slope':(None, None),\n",
    "    'intercept':(None, None),\n",
    "    'r_value':(None, None),\n",
    "}\n",
    "\n",
    "\n",
    "n_plots = len(variable_vbar_bounds)\n",
    "fig, ax = plt.subplots(figsize=(5*n_plots, 5), ncols=n_plots)\n",
    "for n, var in enumerate(variable_vbar_bounds):\n",
    "    vmin, vmax = variable_vbar_bounds[var]\n",
    "    stats_ds[var].plot(ax=ax[n], vmin=vmin, vmax=vmax)\n",
    "    ax[n].set_title(f\"{var}\\nmean = {str(stats_ds[var].mean().values)}\\nsd = {str(stats_ds[var].std().values)}\")\n",
    "\n",
    "fig.tight_layout() \n"
   ]
  },
  {
   "cell_type": "code",
   "execution_count": null,
   "metadata": {},
   "outputs": [],
   "source": [
    "cells_of_interest = []\n",
    "cells_of_interest.append(stats_ds.isel(latitude=10, longitude=3))\n",
    "cells_of_interest.append(stats_ds.isel(latitude=7, longitude=18))\n",
    "n_cells = len(cells_of_interest)\n",
    "_, ax = plt.subplots(figsize=(5*n_cells, 4), ncols=n_cells)\n",
    "\n",
    "for n, cell in enumerate(cells_of_interest):\n",
    "    ax[n].scatter(cell.carbon_phyto, cell.wind_speed)\n",
    "    ax[n].set_title('| coerrelation | = '+str(cell.r_value.values))\n",
    "\n",
    "print(stats_ds.r_value.mean())"
   ]
  },
  {
   "cell_type": "code",
   "execution_count": 16,
   "metadata": {},
   "outputs": [],
   "source": [
    "stat_vars = ['slope', 'intercept', 'r_value', 'p_value', 'std_err']\n",
    "stats_ds = xr.Dataset(\n",
    "    data_vars = {\n",
    "        \"carbon_phyto\": binned_ocean_ds['carbon_phyto'],\n",
    "        \"chlor_a\": binned_ocean_ds['chlor_a']\n",
    "    }\n",
    ")\n",
    "\n",
    "template_array = np.full((stats_ds.latitude.size, stats_ds.longitude.size), (np.nan), np.float32)\n",
    "\n",
    "for var in stat_vars:\n",
    "    stats_ds[var] = ([\"latitude\", \"longitude\"], template_array.copy())\n",
    "\n",
    "stats_ds = stats_ds.chunk({'latitude': 10, 'longitude': 10, 'time': -1})"
   ]
  },
  {
   "cell_type": "code",
   "execution_count": 17,
   "metadata": {},
   "outputs": [],
   "source": [
    "\n",
    "results = xr.apply_ufunc(\n",
    "    linregress_func,\n",
    "    stats_ds.chlor_a,\n",
    "    stats_ds.carbon_phyto,\n",
    "    input_core_dims=[['time'], ['time']],\n",
    "    output_core_dims=[[], [], [], [], []],\n",
    "    vectorize=True,\n",
    "    dask=\"parallelized\",\n",
    "    output_dtypes=[float, float, float, float, float]\n",
    ")\n",
    "\n",
    "stats_ds['slope'], stats_ds['intercept'], stats_ds['r_value'], stats_ds['p_value'], stats_ds['std_err'] = results\n",
    "stats_ds = stats_ds.compute()\n",
    "del results"
   ]
  },
  {
   "cell_type": "code",
   "execution_count": null,
   "metadata": {},
   "outputs": [],
   "source": [
    "variable_vbar_bounds = {\n",
    "    'slope':(None, None),\n",
    "    'intercept':(None, None),\n",
    "    'r_value':(None, None),\n",
    "}\n",
    "\n",
    "\n",
    "n_plots = len(variable_vbar_bounds)\n",
    "fig, ax = plt.subplots(figsize=(5*n_plots, 5), ncols=n_plots)\n",
    "for n, var in enumerate(variable_vbar_bounds):\n",
    "    vmin, vmax = variable_vbar_bounds[var]\n",
    "    stats_ds[var].plot(ax=ax[n], vmin=vmin, vmax=vmax)\n",
    "    ax[n].set_title(f\"{var}\\nmean = {str(stats_ds[var].mean().values)}\\nsd = {str(stats_ds[var].std().values)}\")\n",
    "\n",
    "fig.tight_layout() \n"
   ]
  },
  {
   "cell_type": "code",
   "execution_count": null,
   "metadata": {},
   "outputs": [],
   "source": [
    "cells_of_interest = []\n",
    "cells_of_interest.append(stats_ds.isel(latitude=17, longitude=19)) #high val\n",
    "cells_of_interest.append(stats_ds.isel(latitude=0, longitude=4)) #low val\n",
    "n_cells = len(cells_of_interest)\n",
    "_, ax = plt.subplots(figsize=(5*n_cells, 5), ncols=n_cells)\n",
    "\n",
    "for n, cell in enumerate(cells_of_interest):\n",
    "    ax[n].scatter(cell.carbon_phyto, cell.chlor_a)\n",
    "    ax[n].set_title('| coerrelation | = '+str(cell.r_value.values))"
   ]
  },
  {
   "cell_type": "markdown",
   "metadata": {},
   "source": []
  },
  {
   "cell_type": "markdown",
   "metadata": {},
   "source": [
    "### results\n",
    "* this approach shows significant evidence that in the waters of Palau, there is a relationship between carbon_phytoplankton and chlorophyll counts (obviously)\n",
    "* it appears to be very regional, likely because there is very little plankton in most of the measurements."
   ]
  },
  {
   "cell_type": "markdown",
   "metadata": {},
   "source": [
    "### things to consider about this approach:\n",
    "* some phenomena are simply just very regional.\n",
    "* significant amount of the swaths are obscured by cloud cover\n",
    "* data could be verified by looking at uncertainty values like chlor_a_unc\n",
    "* data also could be matched with insitu data for calibration\n",
    "* for less regional phenomena it might be easier to simply plot all the values of two variable against each other, and not separate them spatially."
   ]
  }
 ],
 "metadata": {
  "kernelspec": {
   "display_name": "scripps",
   "language": "python",
   "name": "python3"
  },
  "language_info": {
   "codemirror_mode": {
    "name": "ipython",
    "version": 3
   },
   "file_extension": ".py",
   "mimetype": "text/x-python",
   "name": "python",
   "nbconvert_exporter": "python",
   "pygments_lexer": "ipython3",
   "version": "3.12.8"
  }
 },
 "nbformat": 4,
 "nbformat_minor": 2
}
